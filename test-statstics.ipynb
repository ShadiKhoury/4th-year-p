{
 "cells": [
  {
   "cell_type": "code",
   "execution_count": 1,
   "metadata": {},
   "outputs": [],
   "source": [
    "import json\n",
    "import numpy as np\n",
    "import matplotlib.pyplot as plt\n",
    "import statsmodels.api as sm\n",
    "import pandas as pd\n"
   ]
  },
  {
   "cell_type": "code",
   "execution_count": 2,
   "metadata": {},
   "outputs": [],
   "source": [
    "import matplotlib.pyplot as plt\n",
    "import numpy as np\n",
    "\n",
    "def bland_altman_plot(data1, data2, *args, **kwargs):\n",
    "    data1     = np.asarray(data1)\n",
    "    data2     = np.asarray(data2)\n",
    "    mean      = np.mean([data1, data2], axis=0)\n",
    "    diff      = data1 - data2                   # Difference between data1 and data2\n",
    "    md        = np.mean(diff)                   # Mean of the difference\n",
    "    sd        = np.std(diff, axis=0)            # Standard deviation of the difference\n",
    "\n",
    "    plt.scatter(mean, diff, *args, **kwargs)\n",
    "    plt.axhline(md,           color='gray', linestyle='--')\n",
    "    plt.axhline(md + 1.96*sd, color='red', linestyle='--')\n",
    "    plt.axhline(md - 1.96*sd, color='red', linestyle='--')"
   ]
  },
  {
   "cell_type": "code",
   "execution_count": 3,
   "metadata": {},
   "outputs": [
    {
     "data": {
      "text/html": [
       "<div>\n",
       "<style scoped>\n",
       "    .dataframe tbody tr th:only-of-type {\n",
       "        vertical-align: middle;\n",
       "    }\n",
       "\n",
       "    .dataframe tbody tr th {\n",
       "        vertical-align: top;\n",
       "    }\n",
       "\n",
       "    .dataframe thead th {\n",
       "        text-align: right;\n",
       "    }\n",
       "</style>\n",
       "<table border=\"1\" class=\"dataframe\">\n",
       "  <thead>\n",
       "    <tr style=\"text-align: right;\">\n",
       "      <th></th>\n",
       "      <th>shap</th>\n",
       "      <th>lime</th>\n",
       "      <th>lgbm</th>\n",
       "      <th>dice_global</th>\n",
       "    </tr>\n",
       "  </thead>\n",
       "  <tbody>\n",
       "    <tr>\n",
       "      <th>cough</th>\n",
       "      <td>0.231779</td>\n",
       "      <td>0.020908</td>\n",
       "      <td>0.071429</td>\n",
       "      <td>0.1</td>\n",
       "    </tr>\n",
       "    <tr>\n",
       "      <th>fever</th>\n",
       "      <td>1.000000</td>\n",
       "      <td>0.215963</td>\n",
       "      <td>0.500000</td>\n",
       "      <td>0.5</td>\n",
       "    </tr>\n",
       "    <tr>\n",
       "      <th>sore_throat</th>\n",
       "      <td>0.094010</td>\n",
       "      <td>0.123108</td>\n",
       "      <td>0.071429</td>\n",
       "      <td>0.0</td>\n",
       "    </tr>\n",
       "    <tr>\n",
       "      <th>shortness_of_breath</th>\n",
       "      <td>0.251110</td>\n",
       "      <td>1.000000</td>\n",
       "      <td>0.857143</td>\n",
       "      <td>1.0</td>\n",
       "    </tr>\n",
       "    <tr>\n",
       "      <th>head_ache</th>\n",
       "      <td>0.244096</td>\n",
       "      <td>0.392729</td>\n",
       "      <td>0.142857</td>\n",
       "      <td>0.6</td>\n",
       "    </tr>\n",
       "    <tr>\n",
       "      <th>age_60_and_above</th>\n",
       "      <td>0.128136</td>\n",
       "      <td>0.090408</td>\n",
       "      <td>1.000000</td>\n",
       "      <td>0.4</td>\n",
       "    </tr>\n",
       "    <tr>\n",
       "      <th>gender</th>\n",
       "      <td>0.044857</td>\n",
       "      <td>0.002714</td>\n",
       "      <td>0.142857</td>\n",
       "      <td>0.2</td>\n",
       "    </tr>\n",
       "    <tr>\n",
       "      <th>Contact with confirmed</th>\n",
       "      <td>0.916082</td>\n",
       "      <td>0.332299</td>\n",
       "      <td>0.214286</td>\n",
       "      <td>0.9</td>\n",
       "    </tr>\n",
       "  </tbody>\n",
       "</table>\n",
       "</div>"
      ],
      "text/plain": [
       "                            shap      lime      lgbm  dice_global\n",
       "cough                   0.231779  0.020908  0.071429          0.1\n",
       "fever                   1.000000  0.215963  0.500000          0.5\n",
       "sore_throat             0.094010  0.123108  0.071429          0.0\n",
       "shortness_of_breath     0.251110  1.000000  0.857143          1.0\n",
       "head_ache               0.244096  0.392729  0.142857          0.6\n",
       "age_60_and_above        0.128136  0.090408  1.000000          0.4\n",
       "gender                  0.044857  0.002714  0.142857          0.2\n",
       "Contact with confirmed  0.916082  0.332299  0.214286          0.9"
      ]
     },
     "execution_count": 3,
     "metadata": {},
     "output_type": "execute_result"
    }
   ],
   "source": [
    "importance_pd=pd.read_json(\"all_norm_Importance.json\")\n",
    "importance_pd"
   ]
  },
  {
   "cell_type": "code",
   "execution_count": 4,
   "metadata": {},
   "outputs": [],
   "source": [
    "import scipy as sc"
   ]
  },
  {
   "cell_type": "code",
   "execution_count": 5,
   "metadata": {},
   "outputs": [
    {
     "name": "stdout",
     "output_type": "stream",
     "text": [
      "the shapiro Test result of shap is :  ShapiroResult(statistic=0.751720666885376, pvalue=0.008534017018973827)\n",
      "the shapiro Test result of lime is :  ShapiroResult(statistic=0.7961695194244385, pvalue=0.026042886078357697)\n",
      "the shapiro Test result of lgbm is :  ShapiroResult(statistic=0.803885817527771, pvalue=0.03149785101413727)\n",
      "the shapiro Test result of dice global is :  ShapiroResult(statistic=0.9490872025489807, pvalue=0.7020240426063538)\n"
     ]
    }
   ],
   "source": [
    "print(f'the shapiro Test result of shap is :  {sc.stats.shapiro(importance_pd.shap)}')\n",
    "print(f'the shapiro Test result of lime is :  {sc.stats.shapiro(importance_pd.lime)}')\n",
    "print(f'the shapiro Test result of lgbm is :  {sc.stats.shapiro(importance_pd.lgbm)}')\n",
    "print(f'the shapiro Test result of dice global is :  {sc.stats.shapiro(importance_pd.dice_global)}')"
   ]
  },
  {
   "cell_type": "code",
   "execution_count": 67,
   "metadata": {},
   "outputs": [],
   "source": [
    "# P_ value  dpr shap is smaller that 0.05 --> reject normality assumption\n",
    "# P_ value  dpr lgbm is smaller that 0.05 --> reject normality assumption\n",
    "# P_ value  dpr lime global is smaller that 0.05 --> reject normality assumption\n",
    "# we do logratim transformation\n"
   ]
  },
  {
   "cell_type": "code",
   "execution_count": 6,
   "metadata": {},
   "outputs": [
    {
     "data": {
      "text/plain": [
       "(array([3., 1., 2., 0., 0., 0., 0., 0., 0., 2.]),\n",
       " array([0.04485682, 0.14037114, 0.23588545, 0.33139977, 0.42691409,\n",
       "        0.52242841, 0.61794273, 0.71345705, 0.80897136, 0.90448568,\n",
       "        1.        ]),\n",
       " <BarContainer object of 10 artists>)"
      ]
     },
     "execution_count": 6,
     "metadata": {},
     "output_type": "execute_result"
    },
    {
     "data": {
      "image/png": "[encoded data removed]",
      "text/plain": [
       "<Figure size 432x288 with 1 Axes>"
      ]
     },
     "metadata": {
      "needs_background": "light"
     },
     "output_type": "display_data"
    }
   ],
   "source": [
    "plt.hist(importance_pd.shap)"
   ]
  },
  {
   "cell_type": "code",
   "execution_count": 7,
   "metadata": {},
   "outputs": [
    {
     "data": {
      "text/plain": [
       "(array([4., 1., 0., 0., 1., 0., 0., 0., 1., 1.]),\n",
       " array([0.07142857, 0.16428571, 0.25714286, 0.35      , 0.44285714,\n",
       "        0.53571429, 0.62857143, 0.72142857, 0.81428571, 0.90714286,\n",
       "        1.        ]),\n",
       " <BarContainer object of 10 artists>)"
      ]
     },
     "execution_count": 7,
     "metadata": {},
     "output_type": "execute_result"
    },
    {
     "data": {
      "image/png": "[encoded data removed]",
      "text/plain": [
       "<Figure size 432x288 with 1 Axes>"
      ]
     },
     "metadata": {
      "needs_background": "light"
     },
     "output_type": "display_data"
    }
   ],
   "source": [
    "plt.hist(importance_pd.lgbm)"
   ]
  },
  {
   "cell_type": "code",
   "execution_count": 9,
   "metadata": {},
   "outputs": [
    {
     "data": {
      "text/plain": [
       "(array([3., 1., 1., 2., 0., 0., 0., 0., 0., 1.]),\n",
       " array([0.00271353, 0.10244218, 0.20217083, 0.30189947, 0.40162812,\n",
       "        0.50135677, 0.60108541, 0.70081406, 0.80054271, 0.90027135,\n",
       "        1.        ]),\n",
       " <BarContainer object of 10 artists>)"
      ]
     },
     "execution_count": 9,
     "metadata": {},
     "output_type": "execute_result"
    },
    {
     "data": {
      "image/png": "[encoded data removed]",
      "text/plain": [
       "<Figure size 432x288 with 1 Axes>"
      ]
     },
     "metadata": {
      "needs_background": "light"
     },
     "output_type": "display_data"
    }
   ],
   "source": [
    "plt.hist(importance_pd.lime)"
   ]
  },
  {
   "cell_type": "code",
   "execution_count": 10,
   "metadata": {},
   "outputs": [],
   "source": [
    "df_sqrt=pd.DataFrame()"
   ]
  },
  {
   "cell_type": "code",
   "execution_count": 11,
   "metadata": {},
   "outputs": [
    {
     "name": "stdout",
     "output_type": "stream",
     "text": [
      "the shapiro Test result of shap_sqrt is :  ShapiroResult(statistic=0.8536351919174194, pvalue=0.10367494821548462)\n",
      "the shapiro Test result of lgbm_sqrt is :  ShapiroResult(statistic=0.8569298982620239, pvalue=0.11188535392284393)\n",
      "the shapiro Test result of dice_sqrt is :  ShapiroResult(statistic=0.9633336663246155, pvalue=0.8411908149719238)\n"
     ]
    }
   ],
   "source": [
    "df_sqrt[\"shap_sqrt\"]=importance_pd['shap'].apply(lambda x:np.sqrt(x))\n",
    "df_sqrt[\"lgbm_sqrt\"]=importance_pd['lgbm'].apply(lambda x:np.sqrt(x))\n",
    "df_sqrt[\"lime_sqrt\"]=importance_pd['lime'].apply(lambda x:np.sqrt(x))\n",
    "print(f'the shapiro Test result of shap_sqrt is :  {sc.stats.shapiro(df_sqrt[\"shap_sqrt\"])}')\n",
    "print(f'the shapiro Test result of lgbm_sqrt is :  {sc.stats.shapiro(df_sqrt[\"lgbm_sqrt\"])}')\n",
    "print(f'the shapiro Test result of dice_sqrt is :  {sc.stats.shapiro(df_sqrt[\"lime_sqrt\"])}')"
   ]
  },
  {
   "cell_type": "code",
   "execution_count": 12,
   "metadata": {},
   "outputs": [
    {
     "data": {
      "text/html": [
       "<div>\n",
       "<style scoped>\n",
       "    .dataframe tbody tr th:only-of-type {\n",
       "        vertical-align: middle;\n",
       "    }\n",
       "\n",
       "    .dataframe tbody tr th {\n",
       "        vertical-align: top;\n",
       "    }\n",
       "\n",
       "    .dataframe thead th {\n",
       "        text-align: right;\n",
       "    }\n",
       "</style>\n",
       "<table border=\"1\" class=\"dataframe\">\n",
       "  <thead>\n",
       "    <tr style=\"text-align: right;\">\n",
       "      <th></th>\n",
       "      <th>shap_sqrt</th>\n",
       "      <th>lgbm_sqrt</th>\n",
       "      <th>lime_sqrt</th>\n",
       "    </tr>\n",
       "  </thead>\n",
       "  <tbody>\n",
       "    <tr>\n",
       "      <th>cough</th>\n",
       "      <td>0.481434</td>\n",
       "      <td>0.267261</td>\n",
       "      <td>0.144595</td>\n",
       "    </tr>\n",
       "    <tr>\n",
       "      <th>fever</th>\n",
       "      <td>1.000000</td>\n",
       "      <td>0.707107</td>\n",
       "      <td>0.464718</td>\n",
       "    </tr>\n",
       "    <tr>\n",
       "      <th>sore_throat</th>\n",
       "      <td>0.306610</td>\n",
       "      <td>0.267261</td>\n",
       "      <td>0.350868</td>\n",
       "    </tr>\n",
       "    <tr>\n",
       "      <th>shortness_of_breath</th>\n",
       "      <td>0.501109</td>\n",
       "      <td>0.925820</td>\n",
       "      <td>1.000000</td>\n",
       "    </tr>\n",
       "    <tr>\n",
       "      <th>head_ache</th>\n",
       "      <td>0.494060</td>\n",
       "      <td>0.377964</td>\n",
       "      <td>0.626681</td>\n",
       "    </tr>\n",
       "    <tr>\n",
       "      <th>age_60_and_above</th>\n",
       "      <td>0.357961</td>\n",
       "      <td>1.000000</td>\n",
       "      <td>0.300679</td>\n",
       "    </tr>\n",
       "    <tr>\n",
       "      <th>gender</th>\n",
       "      <td>0.211794</td>\n",
       "      <td>0.377964</td>\n",
       "      <td>0.052092</td>\n",
       "    </tr>\n",
       "    <tr>\n",
       "      <th>Contact with confirmed</th>\n",
       "      <td>0.957122</td>\n",
       "      <td>0.462910</td>\n",
       "      <td>0.576454</td>\n",
       "    </tr>\n",
       "  </tbody>\n",
       "</table>\n",
       "</div>"
      ],
      "text/plain": [
       "                        shap_sqrt  lgbm_sqrt  lime_sqrt\n",
       "cough                    0.481434   0.267261   0.144595\n",
       "fever                    1.000000   0.707107   0.464718\n",
       "sore_throat              0.306610   0.267261   0.350868\n",
       "shortness_of_breath      0.501109   0.925820   1.000000\n",
       "head_ache                0.494060   0.377964   0.626681\n",
       "age_60_and_above         0.357961   1.000000   0.300679\n",
       "gender                   0.211794   0.377964   0.052092\n",
       "Contact with confirmed   0.957122   0.462910   0.576454"
      ]
     },
     "execution_count": 12,
     "metadata": {},
     "output_type": "execute_result"
    }
   ],
   "source": [
    "df_sqrt"
   ]
  },
  {
   "cell_type": "code",
   "execution_count": 18,
   "metadata": {},
   "outputs": [
    {
     "data": {
      "image/png": "[encoded data removed]",
      "text/plain": [
       "<Figure size 432x288 with 1 Axes>"
      ]
     },
     "metadata": {
      "needs_background": "light"
     },
     "output_type": "display_data"
    }
   ],
   "source": [
    "sm.graphics.mean_diff_plot(df_sqrt.shap_sqrt,df_sqrt.lime_sqrt)\n",
    "plt.xlabel(\"Means SHAP LIME \")\n",
    "plt.ylabel(\"Differnce SHAP-LIME\")\n",
    "plt.title(\"Bland&Altman SHAP-LIME\")\n",
    "plt.show()\n"
   ]
  },
  {
   "cell_type": "code",
   "execution_count": 15,
   "metadata": {},
   "outputs": [
    {
     "data": {
      "image/png": "[encoded data removed]",
      "text/plain": [
       "<Figure size 432x288 with 1 Axes>"
      ]
     },
     "metadata": {
      "needs_background": "light"
     },
     "output_type": "display_data"
    }
   ],
   "source": [
    "sm.graphics.mean_diff_plot(df_sqrt.lgbm_sqrt,df_sqrt.lime_sqrt)\n",
    "plt.xlabel(\"Means LGBM LIME \")\n",
    "plt.ylabel(\"Differnce LGBM-LIME\")\n",
    "plt.show()\n"
   ]
  },
  {
   "cell_type": "code",
   "execution_count": 19,
   "metadata": {},
   "outputs": [
    {
     "data": {
      "image/png": "[encoded data removed]",
      "text/plain": [
       "<Figure size 432x288 with 1 Axes>"
      ]
     },
     "metadata": {
      "needs_background": "light"
     },
     "output_type": "display_data"
    }
   ],
   "source": [
    "sm.graphics.mean_diff_plot(df_sqrt.shap_sqrt,importance_pd.dice_global)\n",
    "plt.xlabel(\"Means SHAP DIce \")\n",
    "plt.ylabel(\"Differnce SHAP-Dice\")\n",
    "plt.title(\"Bland&Altman SHAP-Dice\")\n",
    "plt.show()"
   ]
  }
 ],
 "metadata": {
  "interpreter": {
   "hash": "dff78e43de9fcf840418ade5ce418f2d39c860455d6aba58e4973c813fd168f6"
  },
  "kernelspec": {
   "display_name": "Python 3.8.5 ('base')",
   "language": "python",
   "name": "python3"
  },
  "language_info": {
   "codemirror_mode": {
    "name": "ipython",
    "version": 3
   },
   "file_extension": ".py",
   "mimetype": "text/x-python",
   "name": "python",
   "nbconvert_exporter": "python",
   "pygments_lexer": "ipython3",
   "version": "3.8.5"
  },
  "orig_nbformat": 4
 },
 "nbformat": 4,
 "nbformat_minor": 2
}
